{
  "nbformat": 4,
  "nbformat_minor": 0,
  "metadata": {
    "colab": {
      "name": "Test Technique Python.ipynb",
      "provenance": [],
      "authorship_tag": "ABX9TyPwUTBcT8W/AWv7x7Llzn2T",
      "include_colab_link": true
    },
    "kernelspec": {
      "name": "python3",
      "display_name": "Python 3"
    }
  },
  "cells": [
    {
      "cell_type": "markdown",
      "metadata": {
        "id": "view-in-github",
        "colab_type": "text"
      },
      "source": [
        "<a href=\"https://colab.research.google.com/github/abirbhy/Test/blob/main/Test_Technique_Python.ipynb\" target=\"_parent\"><img src=\"https://colab.research.google.com/assets/colab-badge.svg\" alt=\"Open In Colab\"/></a>"
      ]
    },
    {
      "cell_type": "code",
      "metadata": {
        "id": "i6whhYz3D32H"
      },
      "source": [
        ""
      ],
      "execution_count": null,
      "outputs": []
    },
    {
      "cell_type": "markdown",
      "metadata": {
        "id": "NKcTpbK4Fc9p"
      },
      "source": [
        "# Exercice 1: Algorithme"
      ]
    },
    {
      "cell_type": "code",
      "metadata": {
        "id": "F2WbTK-MFluS"
      },
      "source": [
        ""
      ],
      "execution_count": null,
      "outputs": []
    },
    {
      "cell_type": "markdown",
      "metadata": {
        "id": "Njzckq7oFnIj"
      },
      "source": [
        "# Exercice 2: Traitement Excel"
      ]
    },
    {
      "cell_type": "code",
      "metadata": {
        "id": "-epLTCq8FsSa"
      },
      "source": [
        ""
      ],
      "execution_count": null,
      "outputs": []
    },
    {
      "cell_type": "markdown",
      "metadata": {
        "id": "WUrMOLAaFsyZ"
      },
      "source": [
        "# Exercice3: Test unitaire"
      ]
    },
    {
      "cell_type": "code",
      "metadata": {
        "id": "-5MintM3FyNr"
      },
      "source": [
        ""
      ],
      "execution_count": null,
      "outputs": []
    }
  ]
}