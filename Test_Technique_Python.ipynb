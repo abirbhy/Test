{
  "nbformat": 4,
  "nbformat_minor": 0,
  "metadata": {
    "colab": {
      "name": "Test Technique Python.ipynb",
      "provenance": [],
      "authorship_tag": "ABX9TyO+v97gYDQMaST7DhghLhmH",
      "include_colab_link": true
    },
    "kernelspec": {
      "name": "python3",
      "display_name": "Python 3"
    }
  },
  "cells": [
    {
      "cell_type": "markdown",
      "metadata": {
        "id": "view-in-github",
        "colab_type": "text"
      },
      "source": [
        "<a href=\"https://colab.research.google.com/github/abirbhy/Test/blob/main/Test_Technique_Python.ipynb\" target=\"_parent\"><img src=\"https://colab.research.google.com/assets/colab-badge.svg\" alt=\"Open In Colab\"/></a>"
      ]
    },
    {
      "cell_type": "code",
      "metadata": {
        "id": "i6whhYz3D32H"
      },
      "source": [
        ""
      ],
      "execution_count": null,
      "outputs": []
    },
    {
      "cell_type": "markdown",
      "metadata": {
        "id": "NKcTpbK4Fc9p"
      },
      "source": [
        "# Exercice 1: Algorithme"
      ]
    },
    {
      "cell_type": "markdown",
      "metadata": {
        "id": "uU3uCygvIKAG"
      },
      "source": [
        "Soit L = [x1, …. xn], une suite finie de nombre réels.\r\n",
        "Sans utiliser les fonctions builtins python sort() et sorted(), écrire une fonction qui retourne la\r\n",
        "suite croissante des réels de L."
      ]
    },
    {
      "cell_type": "code",
      "metadata": {
        "colab": {
          "base_uri": "https://localhost:8080/"
        },
        "id": "F2WbTK-MFluS",
        "outputId": "9182277d-040e-4994-fb8f-d50771f04cc6"
      },
      "source": [
        "def croissant(L):\r\n",
        "  L_crois= []\r\n",
        "  for i in range(len(L)):\r\n",
        "    m = min(L)\r\n",
        "    L_crois.append(m)\r\n",
        "    L.remove(m)\r\n",
        "  return (L_crois)\r\n",
        "\r\n",
        "L = [7, 9, 4, 1]\r\n",
        "croissant(L)"
      ],
      "execution_count": 2,
      "outputs": [
        {
          "output_type": "execute_result",
          "data": {
            "text/plain": [
              "[1, 4, 7, 9]"
            ]
          },
          "metadata": {
            "tags": []
          },
          "execution_count": 2
        }
      ]
    },
    {
      "cell_type": "markdown",
      "metadata": {
        "id": "Njzckq7oFnIj"
      },
      "source": [
        "# Exercice 2: Traitement Excel"
      ]
    },
    {
      "cell_type": "code",
      "metadata": {
        "id": "-epLTCq8FsSa"
      },
      "source": [
        ""
      ],
      "execution_count": null,
      "outputs": []
    },
    {
      "cell_type": "markdown",
      "metadata": {
        "id": "WUrMOLAaFsyZ"
      },
      "source": [
        "# Exercice3: Test unitaire"
      ]
    },
    {
      "cell_type": "code",
      "metadata": {
        "id": "-5MintM3FyNr"
      },
      "source": [
        ""
      ],
      "execution_count": null,
      "outputs": []
    }
  ]
}